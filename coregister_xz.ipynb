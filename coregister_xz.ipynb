{
  "nbformat": 4,
  "nbformat_minor": 0,
  "metadata": {
    "colab": {
      "provenance": []
    },
    "kernelspec": {
      "name": "python3",
      "display_name": "Python 3"
    },
    "language_info": {
      "name": "python"
    }
  },
  "cells": [
    {
      "cell_type": "markdown",
      "source": [
        "<a href=\"https://colab.research.google.com/github/WinetraubLab/coregister-xz/blob/main/coregister_xz.ipynb\" target=\"_blank\">\n",
        "<img src=\"https://colab.research.google.com/assets/colab-badge.svg\" alt=\"Open in Colab\"/></a>\n",
        "  \n",
        "<a href=\"https://github.com/WinetraubLab/coregister-xz/blob/main/coregister_xz.ipynb\" target=\"_blank\">\n",
        "  <img src=\"https://img.shields.io/badge/view%20in-GitHub-blue\" alt=\"View in GitHub\"/>\n",
        "</a>\n",
        "\n",
        "# Overview\n",
        "This notebook will compute the best plane fit based on photobleach lines.\n"
      ],
      "metadata": {
        "id": "FCB_-B9KmxiZ"
      }
    },
    {
      "cell_type": "code",
      "execution_count": 1,
      "metadata": {
        "id": "kJN9A2kslKBw"
      },
      "outputs": [],
      "source": [
        "# @title Optical Setup Inputs (Shouldn't Change)\n",
        "\n",
        "# Line Positions\n",
        "v_line_bias_mm = 500e-3\n",
        "h_line_bias_mm = -650e-3\n",
        "base_mm = 90e-3\n",
        "v_lines_spacing = [-1, 0, 1] # Unitless, units will be added later in the code\n",
        "h_lines_spacing = [-3, 0, 1, 3] # Unitless, units will be added later in the code"
      ]
    },
    {
      "cell_type": "code",
      "source": [
        "# @title Inputs (Cutting)\n",
        "\n",
        "cut_position = \"1\" #@param [1,2,3,4]\n",
        "cut_position = int(cut_position)\n",
        "mirror = \"False\" #@param [\"True\",\"False\"]\n",
        "mirror = mirror == \"True\""
      ],
      "metadata": {
        "id": "Glfn6D4vel-y"
      },
      "execution_count": 2,
      "outputs": []
    },
    {
      "cell_type": "code",
      "source": [
        "# @title Inputs (Fluorescence Image Points)\n",
        "\n",
        "# On the fluorescence image, record which points are on every line (pixels)\n",
        "# Lines show up from left to right on the flourescence image\n",
        "fluorescence_image_points_on_line_pix = [\n",
        "  [ [ 143, 0], [ 143, 1] ], # A few points on line 0 (left most line in image)\n",
        "  [ [ 272, 0], [ 272, 1] ], # A few points on line 1 (next line from left)\n",
        "  [ [ 412, 0], [ 412, 1] ], # ...\n",
        "  [ [1359, 0], [1359, 1] ],\n",
        "  [ [1492, 0], [1492, 1] ],\n",
        "  [ [1625, 0], [1625, 1] ],\n",
        "  [ [1894, 0], [1894, 1] ], # A few points on line 6 (right most line image)\n",
        "  ]\n",
        "\n",
        "if (len(fluorescence_image_points_on_line_pix) !=\n",
        "    len(v_lines_spacing) + len(h_lines_spacing)):\n",
        "    raise ValueError('Number of lines identified in the fluorescence_image should be equal to number of lines in template')"
      ],
      "metadata": {
        "id": "h6daVmm3et1Y"
      },
      "execution_count": 3,
      "outputs": []
    },
    {
      "cell_type": "code",
      "source": [
        "# @title Environment Setup\n",
        "\n",
        "if not 'setup_env_coregister_xz' in globals():\n",
        "  setup_env_coregister_xz = True\n",
        "  !git clone --recurse-submodules https://github.com/WinetraubLab/coregister-xz/\n",
        "  %cd ./coregister-xz/\n",
        "\n",
        "from plane.fit_plane import FitPlane\n",
        "from plane.plot_fit_plane import plot_fit_plane\n",
        "import numpy as np\n",
        "import matplotlib.pyplot as plt"
      ],
      "metadata": {
        "cellView": "form",
        "colab": {
          "base_uri": "https://localhost:8080/"
        },
        "id": "_WQI--1spdcj",
        "outputId": "34272491-872e-4894-d58e-65ffa52b63dc"
      },
      "execution_count": 4,
      "outputs": [
        {
          "output_type": "stream",
          "name": "stdout",
          "text": [
            "Cloning into 'coregister-xz'...\n",
            "remote: Enumerating objects: 174, done.\u001b[K\n",
            "remote: Counting objects: 100% (174/174), done.\u001b[K\n",
            "remote: Compressing objects: 100% (126/126), done.\u001b[K\n",
            "remote: Total 174 (delta 83), reused 121 (delta 41), pack-reused 0\u001b[K\n",
            "Receiving objects: 100% (174/174), 97.59 KiB | 979.00 KiB/s, done.\n",
            "Resolving deltas: 100% (83/83), done.\n",
            "/content/coregister-xz\n"
          ]
        }
      ]
    },
    {
      "cell_type": "code",
      "source": [
        "# @title Do the work\n",
        "\n",
        "# Create the base unit structure\n",
        "v_photobleach_line_position_mm = np.array(v_lines_spacing) * base_mm + v_line_bias_mm\n",
        "h_photobleach_line_position_mm = np.array(h_lines_spacing) * base_mm + h_line_bias_mm\n",
        "\n",
        "# Combine v lines and h lines according to order\n",
        "def combine(v_photobleach_line_position_mm, h_photobleach_line_position_mm,\n",
        "            order='vh',flip_v=False, flip_h=False):\n",
        "  if flip_v:\n",
        "    v = np.flipud(v_photobleach_line_position_mm)\n",
        "  else:\n",
        "    v = v_photobleach_line_position_mm\n",
        "\n",
        "  if flip_h:\n",
        "    h = np.flipud(h_photobleach_line_position_mm)\n",
        "  else:\n",
        "    h = h_photobleach_line_position_mm\n",
        "\n",
        "  if order == 'hv':\n",
        "    photobleach_line_position_mm = np.concatenate((h, v), axis=0)\n",
        "    photobleach_line_group = (['h'] * len(h)) + (['v'] * len(v))\n",
        "  else:\n",
        "    photobleach_line_position_mm = np.concatenate((v, h), axis=0)\n",
        "    photobleach_line_group = (['v'] * len(v)) + (['h'] * len(h))\n",
        "\n",
        "  return photobleach_line_position_mm, photobleach_line_group\n",
        "\n",
        "if cut_position == 1:\n",
        "  photobleach_line_position_mm, photobleach_line_group = combine(\n",
        "      v_photobleach_line_position_mm, h_photobleach_line_position_mm,\n",
        "      order='vh',flip_v=False, flip_h=True)\n",
        "elif cut_position == 2:\n",
        "  photobleach_line_position_mm, photobleach_line_group = combine(\n",
        "      v_photobleach_line_position_mm, h_photobleach_line_position_mm,\n",
        "      order='hv',flip_v=False, flip_h=False)\n",
        "elif cut_position == 3:\n",
        "  photobleach_line_position_mm, photobleach_line_group = combine(\n",
        "      v_photobleach_line_position_mm, h_photobleach_line_position_mm,\n",
        "      order='hv',flip_v=True, flip_h=False)\n",
        "elif cut_position == 4:\n",
        "  photobleach_line_position_mm, photobleach_line_group = combine(\n",
        "      v_photobleach_line_position_mm, h_photobleach_line_position_mm,\n",
        "      order='vh',flip_v=False, flip_h=False)\n",
        "\n",
        "# Flip lines based on mirror status\n",
        "fluorescence_image_points_on_line_pix = np.array(fluorescence_image_points_on_line_pix)\n",
        "if mirror:\n",
        "  fluorescence_image_points_on_line_pix = np.flipud(fluorescence_image_points_on_line_pix)\n",
        "\n",
        "# Fit & Plot\n",
        "fp = FitPlane.from_fitting_points_on_photobleach_lines(\n",
        "      fluorescence_image_points_on_line_pix,\n",
        "      photobleach_line_position_mm,\n",
        "      photobleach_line_group,\n",
        "      print_inputs = True, # Comment out if printing inputs is not important\n",
        "    )\n",
        "plot_fit_plane(fp,\n",
        "  v_photobleach_line_position_mm,\n",
        "  h_photobleach_line_position_mm, reverse_plot=mirror)\n",
        "\n",
        "if mirror:\n",
        "  raise ValueError('Using mirror=True will make reslicing significantly more difficult. Please flip/mirror the fluorescence image instead using ImageJ')\n",
        "\n",
        "# Print stats\n",
        "print('Fit Statistics:')\n",
        "print('---------------')\n",
        "print(\"Pixel Size: |u| = %.3fum, |v| = %.3fum\" %\n",
        "  (fp.u_norm_mm()*1e3, fp.v_norm_mm()*1e3 ) )\n",
        "print(\"Signed Distance from Origin: %.3fmm\" % fp.distance_from_origin_mm())\n",
        "print(\"X-Y Rotation: %.2f degrees\" % fp.xy_rotation_deg())\n",
        "print(\"Tilt: %.2f degrees\" % fp.tilt_deg())\n",
        "\n",
        "# Serialize to JSON\n",
        "print(\"\")\n",
        "print('Data to Keep:')\n",
        "print('---------------')\n",
        "print(\"fp = FitPlane.from_json('\" + fp.to_json() + \"')\")\n",
        "array_str = ', '.join(map(str, photobleach_line_position_mm))\n",
        "print(f'photobleach_line_position_mm = np.array([{array_str}])')\n",
        "print(f'photobleach_line_group = np.array({photobleach_line_group})')"
      ],
      "metadata": {
        "colab": {
          "base_uri": "https://localhost:8080/",
          "height": 708
        },
        "id": "6BkjgzTDs9ZX",
        "outputId": "8a1e96d4-07f1-452d-cef2-fe6b31de0dd9"
      },
      "execution_count": 5,
      "outputs": [
        {
          "output_type": "stream",
          "name": "stdout",
          "text": [
            "FitPlane.from_fitting_points_on_photobleach_lines([[[143, 0], [143, 1]], [[272, 0], [272, 1]], [[412, 0], [412, 1]], [[1359, 0], [1359, 1]], [[1492, 0], [1492, 1]], [[1625, 0], [1625, 1]], [[1894, 0], [1894, 1]]],[0.41000000000000003, 0.5, 0.59, -0.38, -0.56, -0.65, -0.92],[\"v\", \"v\", \"v\", \"h\", \"h\", \"h\", \"h\"])\n"
          ]
        },
        {
          "output_type": "display_data",
          "data": {
            "text/plain": [
              "<Figure size 640x480 with 1 Axes>"
            ],
            "image/png": "[encoded data removed]"
          },
          "metadata": {}
        },
        {
          "output_type": "stream",
          "name": "stdout",
          "text": [
            "Fit Statistics:\n",
            "---------------\n",
            "Pixel Size: |u| = 1.187um, |v| = 1.187um\n",
            "Signed Distance from Origin: -0.787mm\n",
            "X-Y Rotation: 55.70 degrees\n",
            "Tilt: 0.00 degrees\n",
            "\n",
            "Data to Keep:\n",
            "---------------\n",
            "fp = FitPlane.from_json('{\"u\": [0.0006687722141397542, -0.0009802913508024647, 5.079578949553707e-16], \"v\": [1.6653345369377348e-16, 7.285183837081064e-16, 0.0011866875776140534], \"h\": [0.3156417929688053, 0.9336139761529184, 0.0], \"recommended_center_pix\": [500.00535539957735, 0.5]}')\n",
            "photobleach_line_position_mm = np.array([0.41000000000000003, 0.5, 0.59, -0.38, -0.56, -0.65, -0.92])\n",
            "photobleach_line_group = np.array(['v', 'v', 'v', 'h', 'h', 'h', 'h'])\n"
          ]
        }
      ]
    }
  ]
}