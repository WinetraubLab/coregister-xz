{
  "nbformat": 4,
  "nbformat_minor": 0,
  "metadata": {
    "colab": {
      "provenance": []
    },
    "kernelspec": {
      "name": "python3",
      "display_name": "Python 3"
    },
    "language_info": {
      "name": "python"
    }
  },
  "cells": [
    {
      "cell_type": "markdown",
      "source": [
        "<a href=\"https://colab.research.google.com/github/WinetraubLab/coregister-xz/blob/main/coregister_xz.ipynb\" target=\"_blank\">\n",
        "<img src=\"https://colab.research.google.com/assets/colab-badge.svg\" alt=\"Open in Colab\"/></a>\n",
        "  \n",
        "<a href=\"https://github.com/WinetraubLab/coregister-xz/blob/main/coregister_xz.ipynb\" target=\"_blank\">\n",
        "  <img src=\"https://img.shields.io/badge/view%20in-GitHub-blue\" alt=\"View in GitHub\"/>\n",
        "</a>\n",
        "\n",
        "# Overview\n",
        "This notebook will compute the best plane fit based on photobleach lines.\n"
      ],
      "metadata": {
        "id": "FCB_-B9KmxiZ"
      }
    },
    {
      "cell_type": "code",
      "execution_count": 1,
      "metadata": {
        "id": "kJN9A2kslKBw"
      },
      "outputs": [],
      "source": [
        "# @title Optical Setup Inputs (Shouldn't Change)\n",
        "\n",
        "# Line Positions\n",
        "v_line_bias_mm = 700e-3\n",
        "h_line_bias_mm = -400e-3\n",
        "base_mm = 100e-3\n",
        "v_lines_spacing = [-1, 0, 1] # Unitless, units will be added later in the code\n",
        "h_lines_spacing = [-2, 0, 1, 2] # Unitless, units will be added later in the code"
      ]
    },
    {
      "cell_type": "code",
      "source": [
        "# @title Inputs (Cutting)\n",
        "\n",
        "cut_position = \"1\" #@param [1,2,3,4]\n",
        "cut_position = int(cut_position)\n",
        "mirror = \"False\" #@param [\"True\",\"False\"]\n",
        "mirror = mirror == \"True\""
      ],
      "metadata": {
        "id": "Glfn6D4vel-y"
      },
      "execution_count": 2,
      "outputs": []
    },
    {
      "cell_type": "code",
      "source": [
        "# @title Inputs (Fluorescence Image Points)\n",
        "\n",
        "# On the fluorescence image, record which points are on every line (pixels)\n",
        "# Lines show up from left to right on the flourescence image\n",
        "fluorescence_image_points_on_line_pix = [\n",
        "  [ [ 143, 0], [ 143, 1] ], # A few points on line 0 (left most line in image)\n",
        "  [ [ 272, 0], [ 272, 1] ], # A few points on line 1 (next line from left)\n",
        "  [ [ 412, 0], [ 412, 1] ], # ...\n",
        "  [ [1359, 0], [1359, 1] ],\n",
        "  [ [1492, 0], [1492, 1] ],\n",
        "  [ [1625, 0], [1625, 1] ],\n",
        "  [ [1894, 0], [1894, 1] ], # A few points on line 6 (right most line image)\n",
        "  ]\n",
        "\n",
        "if (len(fluorescence_image_points_on_line_pix) !=\n",
        "    len(v_lines_spacing) + len(h_lines_spacing)):\n",
        "    raise ValueError('Number of lines identified in the fluorescence_image should be equal to number of lines in template')"
      ],
      "metadata": {
        "id": "h6daVmm3et1Y"
      },
      "execution_count": 3,
      "outputs": []
    },
    {
      "cell_type": "code",
      "source": [
        "# @title Environment Setup\n",
        "\n",
        "if not 'setup_env_coregister_xz' in globals():\n",
        "  setup_env_coregister_xz = True\n",
        "  !git clone --recurse-submodules https://github.com/WinetraubLab/coregister-xz/\n",
        "  %cd ./coregister-xz/\n",
        "\n",
        "from plane.fit_plane import FitPlane\n",
        "from plane.plot_fit_plane import plot_fit_plane\n",
        "import numpy as np\n",
        "import matplotlib.pyplot as plt"
      ],
      "metadata": {
        "cellView": "form",
        "id": "_WQI--1spdcj",
        "outputId": "a9a8c0e4-3f70-4863-d04e-0d752ef5b590",
        "colab": {
          "base_uri": "https://localhost:8080/"
        }
      },
      "execution_count": 4,
      "outputs": [
        {
          "output_type": "stream",
          "name": "stdout",
          "text": [
            "Cloning into 'coregister-xz'...\n",
            "remote: Enumerating objects: 110, done.\u001b[K\n",
            "remote: Counting objects: 100% (110/110), done.\u001b[K\n",
            "remote: Compressing objects: 100% (84/84), done.\u001b[K\n",
            "remote: Total 110 (delta 49), reused 78 (delta 23), pack-reused 0\u001b[K\n",
            "Receiving objects: 100% (110/110), 45.28 KiB | 1.26 MiB/s, done.\n",
            "Resolving deltas: 100% (49/49), done.\n",
            "/content/coregister-xz\n"
          ]
        }
      ]
    },
    {
      "cell_type": "code",
      "source": [
        "# @title Do the work\n",
        "\n",
        "# Create the base unit structure\n",
        "v_photobleach_line_position_mm = np.array(v_lines_spacing) * base_mm + v_line_bias_mm\n",
        "h_photobleach_line_position_mm = np.array(h_lines_spacing) * base_mm + h_line_bias_mm\n",
        "\n",
        "# Combine v lines and h lines according to order\n",
        "def combine(v_photobleach_line_position_mm, h_photobleach_line_position_mm,\n",
        "            order='vh',flip_v=False, flip_h=False):\n",
        "  if flip_v:\n",
        "    v = np.flipud(v_photobleach_line_position_mm)\n",
        "  else:\n",
        "    v = v_photobleach_line_position_mm\n",
        "\n",
        "  if flip_h:\n",
        "    h = np.flipud(h_photobleach_line_position_mm)\n",
        "  else:\n",
        "    h = h_photobleach_line_position_mm\n",
        "\n",
        "  if order == 'hv':\n",
        "    photobleach_line_position_mm = np.concatenate((h, v), axis=0)\n",
        "    photobleach_line_group = (['h'] * len(h)) + (['v'] * len(v))\n",
        "  else:\n",
        "    photobleach_line_position_mm = np.concatenate((v, h), axis=0)\n",
        "    photobleach_line_group = (['v'] * len(v)) + (['h'] * len(h))\n",
        "\n",
        "  return photobleach_line_position_mm, photobleach_line_group\n",
        "\n",
        "if cut_position == 1:\n",
        "  photobleach_line_position_mm, photobleach_line_group = combine(\n",
        "      v_photobleach_line_position_mm, h_photobleach_line_position_mm,\n",
        "      order='vh',flip_v=False, flip_h=True)\n",
        "elif cut_position == 2:\n",
        "  photobleach_line_position_mm, photobleach_line_group = combine(\n",
        "      v_photobleach_line_position_mm, h_photobleach_line_position_mm,\n",
        "      order='hv',flip_v=False, flip_h=False)\n",
        "elif cut_position == 3:\n",
        "  photobleach_line_position_mm, photobleach_line_group = combine(\n",
        "      v_photobleach_line_position_mm, h_photobleach_line_position_mm,\n",
        "      order='hv',flip_v=True, flip_h=False)\n",
        "elif cut_position == 4:\n",
        "  photobleach_line_position_mm, photobleach_line_group = combine(\n",
        "      v_photobleach_line_position_mm, h_photobleach_line_position_mm,\n",
        "      order='vh',flip_v=False, flip_h=False)\n",
        "\n",
        "# Flip lines based on mirror status\n",
        "fluorescence_image_points_on_line_pix = np.array(fluorescence_image_points_on_line_pix)\n",
        "if mirror:\n",
        "  fluorescence_image_points_on_line_pix = np.flipud(fluorescence_image_points_on_line_pix)\n",
        "\n",
        "\n",
        "# Fit & Plot\n",
        "fp = FitPlane(\n",
        "    fluorescence_image_points_on_line_pix,\n",
        "    photobleach_line_position_mm,\n",
        "    photobleach_line_group)\n",
        "plot_fit_plane(fp,\n",
        "  v_photobleach_line_position_mm,\n",
        "  h_photobleach_line_position_mm, reverse_plot=mirror)\n",
        "\n",
        "# Print stats\n",
        "print('Fit Statistics')\n",
        "print(\"Pixel Size: |u| = %.3fum, |v| = %.3fum\" %\n",
        "  (fp.u_norm_mm()*1e3, fp.v_norm_mm()*1e3 ) )\n",
        "print(\"Signed Distance from Origin: %.3fmm\" % fp.distance_from_origin_mm())\n",
        "print(\"X-Y Rotation: %.2f degrees\" % fp.xy_rotation_deg())\n",
        "print(\"Tilt: %.2f degrees\" % fp.tilt_deg())"
      ],
      "metadata": {
        "id": "6BkjgzTDs9ZX",
        "outputId": "1a12c90a-4728-4d7a-8883-414c2f5e7fa7",
        "colab": {
          "base_uri": "https://localhost:8080/",
          "height": 538
        }
      },
      "execution_count": 5,
      "outputs": [
        {
          "output_type": "display_data",
          "data": {
            "text/plain": [
              "<Figure size 640x480 with 1 Axes>"
            ],
            "image/png": "[encoded data removed]"
          },
          "metadata": {}
        },
        {
          "output_type": "stream",
          "name": "stdout",
          "text": [
            "Fit Statistics\n",
            "Pixel Size: |u| = 1.054um, |v| = 1.054um\n",
            "Signed Distance from Origin: -0.926mm\n",
            "X-Y Rotation: 45.17 degrees\n",
            "Tilt: 0.00 degrees\n"
          ]
        }
      ]
    }
  ]
}