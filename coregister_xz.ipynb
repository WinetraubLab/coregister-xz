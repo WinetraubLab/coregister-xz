{
  "nbformat": 4,
  "nbformat_minor": 0,
  "metadata": {
    "colab": {
      "provenance": []
    },
    "kernelspec": {
      "name": "python3",
      "display_name": "Python 3"
    },
    "language_info": {
      "name": "python"
    }
  },
  "cells": [
    {
      "cell_type": "code",
      "execution_count": 2,
      "metadata": {
        "id": "kJN9A2kslKBw"
      },
      "outputs": [],
      "source": [
        "# @title Inputs (General)\n",
        "import numpy as np\n",
        "\n",
        "# Line Positions\n",
        "vLineBias_mm = 700e-3; #[mm]\n",
        "hLineBias_mm = -400e-3; #[mm]\n",
        "base_mm = 100e-3; #mm\n",
        "vLines_mm = np.array([-1, 0, 1]) * base_mm + vLineBias_mm\n",
        "hLines_mm = np.array([-2, 0, 1, 2]) * base_mm + hLineBias_mm\n",
        "#vLines_mm = np.array([-4, 0, 1, 3]) * base_mm + vLineBias_mm\n",
        "#hLines_mm = np.array([-3, -2, 1, 3]) * base_mm + hLineBias_mm"
      ]
    },
    {
      "cell_type": "code",
      "source": [
        "# @title Inputs (Cutting)\n",
        "\n",
        "cut_position = \"1\" #@param [1,2,3,4]\n",
        "cut_position = int(cut_position)\n",
        "mirror = \"False\" #@param [\"True\",\"False\"]\n",
        "mirror = mirror == \"True\""
      ],
      "metadata": {
        "cellView": "form",
        "id": "Glfn6D4vel-y"
      },
      "execution_count": 3,
      "outputs": []
    },
    {
      "cell_type": "code",
      "source": [
        "# @title Inputs (Point Positions)\n",
        "\n",
        "# On the fluorescence image, what coordinates are on the line [mm]\n",
        "# Lines from left to right\n",
        "l0_pt = np.array([ [0.143, 0], [0.143, 1]])\n",
        "l1_pt = np.array([ [0.272, 0], [0.272, 1]])\n",
        "l2_pt = np.array([ [0.412, 0], [0.412, 1]])\n",
        "l3_pt = np.array([ [1.359, 0], [1.359, 1]])\n",
        "l4_pt = np.array([ [1.492, 0], [1.492, 1]])\n",
        "l5_pt = np.array([ [1.625, 0], [1.625, 1]])\n",
        "l6_pt = np.array([ [1.894, 0], [1.894, 1]])"
      ],
      "metadata": {
        "id": "h6daVmm3et1Y"
      },
      "execution_count": 4,
      "outputs": []
    },
    {
      "cell_type": "code",
      "source": [
        "# @title Pattern\n",
        "import matplotlib.pyplot as plt\n",
        "\n",
        "def draw_pattern(\n",
        "    vLines_mm, # Position of vertical lines\n",
        "    hLines_mm, # Position of horizontal lines\n",
        "    oct_scan_size_mm=0.5, # Size of the OCT scan around the center\n",
        "    reverse_plot=False, # Set to true if the flourecence image is reversed\n",
        "    ):\n",
        "  # Plot Pattern\n",
        "  for vline in vLines_mm:\n",
        "      plt.axvline(x=vline, color='r', linestyle='-')\n",
        "  for hline in hLines_mm:\n",
        "      plt.axhline(y=hline, color='b', linestyle='-')\n",
        "  # Plot OCT Scan\n",
        "  square_x = [-oct_scan_size_mm/2, oct_scan_size_mm/2, oct_scan_size_mm/2, -oct_scan_size_mm/2, -oct_scan_size_mm/2]\n",
        "  square_y = [-oct_scan_size_mm/2, -oct_scan_size_mm/2, oct_scan_size_mm/2, oct_scan_size_mm/2, -oct_scan_size_mm/2]\n",
        "  plt.plot(square_x, square_y, color='k', linestyle=':')\n",
        "\n",
        "  # Figure out the scale of the lines\n",
        "  vLines_center_mm = np.mean(vLines_mm)\n",
        "  hLines_center_mm = np.mean(hLines_mm)\n",
        "  scale_mm = np.round(np.max([\n",
        "      np.max(vLines_mm) - np.min(vLines_mm),\n",
        "      np.max(hLines_mm) - np.min(hLines_mm),\n",
        "      oct_scan_size_mm])*4)\n",
        "\n",
        "  plt.xlim(vLines_center_mm-scale_mm, vLines_center_mm+scale_mm)\n",
        "  plt.ylim(hLines_center_mm-scale_mm, hLines_center_mm+scale_mm)\n",
        "\n",
        "  plt.xlabel('X[mm]')\n",
        "  plt.ylabel('Y[mm]')\n",
        "  plt.grid(True)\n",
        "  plt.axis('equal')\n",
        "  if reverse_plot:\n",
        "    plt.gca().invert_yaxis()\n",
        "    plt.gca().invert_xaxis()\n",
        "  #plt.show()\n",
        "\n",
        "def _draw_pattern():\n",
        "  draw_pattern(vLines_mm,hLines_mm, reverse_plot=mirror)\n",
        "_draw_pattern()\n",
        "\n",
        "\n",
        "# Slice Line\n",
        "if cut_position == 1:\n",
        "  x_scale =  1\n",
        "  y_scale =  1\n",
        "  cut_flip = False\n",
        "  line_id_group = ['v','v','v', 'h','h','h','h']\n",
        "  line_id_pos = np.concatenate((vLines_mm, np.flipud(hLines_mm)), axis=0)\n",
        "elif cut_position == 2:\n",
        "  x_scale = -1\n",
        "  y_scale =  1\n",
        "  cut_flip = True\n",
        "  line_id_group = ['h','h','h','h','v','v','v']\n",
        "  line_id_pos = np.concatenate((hLines_mm, vLines_mm), axis=0)\n",
        "elif cut_position == 3:\n",
        "  x_scale = -1\n",
        "  y_scale = -1\n",
        "  cut_flip = True\n",
        "  line_id_group = ['h','h','h','h','v','v','v']\n",
        "  line_id_pos = np.concatenate((np.flipud(hLines_mm), vLines_mm), axis=0)\n",
        "elif cut_position == 4:\n",
        "  x_scale =  1\n",
        "  y_scale = -1\n",
        "  cut_flip = False\n",
        "  line_id_group = ['v','v','v','h','h','h','h']\n",
        "  line_id_pos = np.concatenate((vLines_mm, hLines_mm), axis=0)\n",
        "\n",
        "x = x_scale*np.array([-1,1]) + vLineBias_mm + x_scale*0.5\n",
        "y = y_scale*np.array([1,-1]) + hLineBias_mm + y_scale*0.5\n",
        "\n",
        "# Center x,y makes sure it's length is 2mm\n",
        "dir = np.array([x[1]-x[0],y[1]-y[0]])\n",
        "dir = dir/np.linalg.norm(dir)*2\n",
        "x_mid = np.mean(x)\n",
        "y_mid = np.mean(y)\n",
        "x = np.array([x_mid-dir[0]/2,x_mid+dir[0]/2])\n",
        "y = np.array([y_mid-dir[1]/2,y_mid+dir[1]/2])\n",
        "\n",
        "if cut_flip:\n",
        "  x = np.flipud(x)\n",
        "  y = np.flipud(y)\n",
        "if mirror:\n",
        "  line_id_group = np.flipud(line_id_group)\n",
        "  line_id_pos = np.flipud(line_id_pos)\n",
        "  x = np.flipud(x)\n",
        "  y = np.flipud(y)\n",
        "plt.arrow(x[0], y[0], x[1] - x[0], y[1] - y[0], color='k', head_width=0.1, head_length=0.1)\n",
        "\n",
        "# Print the ids\n",
        "for group, pos in zip(line_id_group, line_id_pos):\n",
        "    print(f\"{group}{pos:.2f}\", end=\", \")\n",
        "\n",
        "plt.show()"
      ],
      "metadata": {
        "colab": {
          "base_uri": "https://localhost:8080/",
          "height": 467
        },
        "id": "-i7vfEchmJsC",
        "outputId": "73742875-542b-4ff6-fbbb-e744159a42cf"
      },
      "execution_count": 5,
      "outputs": [
        {
          "output_type": "stream",
          "name": "stdout",
          "text": [
            "v0.60, v0.70, v0.80, h-0.20, h-0.30, h-0.40, h-0.60, "
          ]
        },
        {
          "output_type": "display_data",
          "data": {
            "text/plain": [
              "<Figure size 640x480 with 1 Axes>"
            ],
            "image/png": "[encoded data removed]"
          },
          "metadata": {}
        }
      ]
    },
    {
      "cell_type": "code",
      "source": [
        "print(line_id_group)"
      ],
      "metadata": {
        "colab": {
          "base_uri": "https://localhost:8080/"
        },
        "id": "ye0Jg4kK8e5W",
        "outputId": "459465ce-412a-4133-dc37-f849d6b0cbe3"
      },
      "execution_count": 6,
      "outputs": [
        {
          "output_type": "stream",
          "name": "stdout",
          "text": [
            "['v', 'v', 'v', 'h', 'h', 'h', 'h']\n"
          ]
        }
      ]
    },
    {
      "cell_type": "code",
      "source": [
        "# @title Compute Alignment\n",
        "# Reference: https://github.com/WinetraubLab/HashtagAlignment/blob/master/99%20Algorithms/fdlnEstimateUVHSinglePlane.m\n",
        "\n",
        "# Create the least square matrix\n",
        "def gen_row (\n",
        "    ln_pts, # Points on the specific line\n",
        "    ln_id_group, # Can be 'h' or 'v'\n",
        "    ln_id_pos,   # The physical position in mm\n",
        "    ):\n",
        "  y_row = []\n",
        "  A_row = []\n",
        "  for ln_pt in ln_pts:\n",
        "    y.append(ln_id_pos) # least square y is the line position [mm]\n",
        "    if ln_id_group == 'v':\n",
        "      A_row.append([ln_pt[0], 0, ln_pt[1], 0, 1, 0])\n",
        "    else:\n",
        "      A_row.append([0, ln_pt[0], 0, ln_pt[1], 0, 1])\n",
        "\n",
        "  A_row = np.array(A_row)\n",
        "  y_row = np.array(y_row)\n",
        "\n",
        "  return (A_row,y_row)\n",
        "\n",
        "A = []\n",
        "y = []\n",
        "A_row, y_row = gen_row(l0_pt,line_id_group[0],line_id_pos[0])\n",
        "A.append(A_row)\n",
        "y.append(y_row)\n",
        "A_row, y_row = gen_row(l1_pt,line_id_group[1],line_id_pos[1])\n",
        "A.append(A_row)\n",
        "y.append(y_row)\n",
        "A_row, y_row = gen_row(l2_pt,line_id_group[2],line_id_pos[2])\n",
        "A.append(A_row)\n",
        "y.append(y_row)\n",
        "A_row, y_row = gen_row(l3_pt,line_id_group[3],line_id_pos[3])\n",
        "A.append(A_row)\n",
        "y.append(y_row)\n",
        "A_row, y_row = gen_row(l4_pt,line_id_group[4],line_id_pos[4])\n",
        "A.append(A_row)\n",
        "y.append(y_row)\n",
        "A_row, y_row = gen_row(l5_pt,line_id_group[5],line_id_pos[5])\n",
        "A.append(A_row)\n",
        "y.append(y_row)\n",
        "A_row, y_row = gen_row(l6_pt,line_id_group[6],line_id_pos[6])\n",
        "A.append(A_row)\n",
        "y.append(y_row)\n",
        "\n",
        "A = np.vstack(A)\n",
        "y = np.hstack(y)\n",
        "\n",
        "# Solve the least square problem\n",
        "x, residuals, rank, s = np.linalg.lstsq(A, y, rcond=None)\n",
        "\n",
        "# Output vectors\n",
        "u_x = x[0]\n",
        "u_y = x[1]\n",
        "v_x = x[2]\n",
        "v_y = x[3]\n",
        "h_x = x[4]\n",
        "h_y = x[5]\n",
        "\n",
        "# Estimate z by solving equation A and equation B\n",
        "def eq_A(u_x,u_y,v_x,v_y):\n",
        "  return u_x*v_x+u_y*v_y\n",
        "def eq_B(u_x,u_y,v_x,v_y):\n",
        "  return u_x**2-v_x**2+u_y**2-v_y**2\n",
        "def eq_vz(u_x,u_y,v_x,v_y):\n",
        "  A = eq_A(u_x,u_y,v_x,v_y)\n",
        "  B = eq_B(u_x,u_y,v_x,v_y)\n",
        "  return 1/np.sqrt(2)*np.sqrt(B+np.sqrt(B**2-4*A**2))\n",
        "\n",
        "v_z = eq_vz(u_x,u_y,v_x,v_y)\n",
        "u_z = -eq_A(u_x,u_y,v_x,v_y)/v_z\n",
        "\n",
        "u = np.array([u_x,u_y,u_z])\n",
        "v = np.array([v_x,v_y,v_z])\n",
        "h = np.array([h_x,h_y,0])\n",
        "print(u)\n",
        "print(v)\n",
        "print(h)\n",
        "print(np.linalg.norm(u))\n",
        "print(np.linalg.norm(v))"
      ],
      "metadata": {
        "colab": {
          "base_uri": "https://localhost:8080/"
        },
        "id": "g34IbiCfS6Vt",
        "outputId": "cf22a455-97ff-409d-fdc9-67fb6088a8b0"
      },
      "execution_count": 7,
      "outputs": [
        {
          "output_type": "stream",
          "name": "stdout",
          "text": [
            "[ 7.43080238e-01 -7.47536419e-01 -7.78002093e-17]\n",
            "[2.22044605e-16 1.11022302e-16 1.05402986e+00]\n",
            "[0.49515755 0.81545175 0.        ]\n",
            "1.0540298560828878\n",
            "1.0540298560828878\n"
          ]
        }
      ]
    },
    {
      "cell_type": "code",
      "source": [
        "import numpy as np\n",
        "print(max(10,np.Inf))"
      ],
      "metadata": {
        "colab": {
          "base_uri": "https://localhost:8080/"
        },
        "id": "4dtIQulYCp6f",
        "outputId": "497816be-48a3-4860-87c6-12fb5c6a9b92"
      },
      "execution_count": 5,
      "outputs": [
        {
          "output_type": "stream",
          "name": "stdout",
          "text": [
            "inf\n"
          ]
        }
      ]
    }
  ]
}